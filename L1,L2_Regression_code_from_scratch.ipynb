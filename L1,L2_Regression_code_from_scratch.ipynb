{
  "nbformat": 4,
  "nbformat_minor": 0,
  "metadata": {
    "colab": {
      "provenance": [],
      "authorship_tag": "ABX9TyOlQyH36H5kqmsdboI2/UOU",
      "include_colab_link": true
    },
    "kernelspec": {
      "name": "python3",
      "display_name": "Python 3"
    },
    "language_info": {
      "name": "python"
    }
  },
  "cells": [
    {
      "cell_type": "markdown",
      "metadata": {
        "id": "view-in-github",
        "colab_type": "text"
      },
      "source": [
        "<a href=\"https://colab.research.google.com/github/Gayathiri-E/ML/blob/main/L1%2CL2_Regression_code_from_scratch.ipynb\" target=\"_parent\"><img src=\"https://colab.research.google.com/assets/colab-badge.svg\" alt=\"Open In Colab\"/></a>"
      ]
    },
    {
      "cell_type": "code",
      "execution_count": null,
      "metadata": {
        "id": "zjNETgImch2-"
      },
      "outputs": [],
      "source": [
        "import numpy as np\n",
        "import matplotlib.pyplot as plt"
      ]
    },
    {
      "cell_type": "code",
      "source": [
        "x=np.array([1,2,3,4,5])\n",
        "y=np.array([2.1,3.8,6.5,9.2,11.3])"
      ],
      "metadata": {
        "id": "5Z7DaIYC-nVh"
      },
      "execution_count": null,
      "outputs": []
    },
    {
      "cell_type": "code",
      "source": [
        "x_b = np.c_[np.ones((x.shape[0],1)),x] #c- col stack\n",
        " #design matrix\n",
        "x_b"
      ],
      "metadata": {
        "colab": {
          "base_uri": "https://localhost:8080/"
        },
        "id": "sriTY3wp_Bhu",
        "outputId": "ef77ae39-5d20-4f87-a119-ab713743d9da"
      },
      "execution_count": null,
      "outputs": [
        {
          "output_type": "execute_result",
          "data": {
            "text/plain": [
              "array([[1., 1.],\n",
              "       [1., 2.],\n",
              "       [1., 3.],\n",
              "       [1., 4.],\n",
              "       [1., 5.]])"
            ]
          },
          "metadata": {},
          "execution_count": 5
        }
      ]
    },
    {
      "cell_type": "code",
      "source": [
        "alpha_ridge = 1.0\n",
        "alpha_lasso = 0.1\n",
        "num_iterations = 1000\n",
        "learning_rate = 0.01"
      ],
      "metadata": {
        "id": "b9A0wfzp_g4v"
      },
      "execution_count": null,
      "outputs": []
    },
    {
      "cell_type": "code",
      "source": [
        "def lasso_regression(x,y,alpha,num_iterations,learning_rate):\n",
        "  m,n = x.shape #(row and col)\n",
        "  theta = np.zeros(n) #theta is weight\n",
        "  for _ in range(num_iterations):\n",
        "    y_pred = x.dot(theta)\n",
        "    gradient = (x.T.dot(y_pred-y)+alpha*np.sign(theta))/n\n",
        "    theta -= learning_rate * gradient\n",
        "  return theta"
      ],
      "metadata": {
        "id": "ny0mdf4s__eo"
      },
      "execution_count": null,
      "outputs": []
    },
    {
      "cell_type": "code",
      "source": [
        "def ridge_regression(x,y,alpha,num_iterations,learning_rate):\n",
        "  m,n = x.shape #(row and col)\n",
        "  theta = np.zeros(n) #theta is weight\n",
        "  for _ in range(num_iterations):\n",
        "    y_pred = x.dot(theta)\n",
        "    gradient = (x.T.dot(y_pred-y)+alpha*theta)/n\n",
        "    theta -= learning_rate * gradient\n",
        "  return theta"
      ],
      "metadata": {
        "id": "Q4lCEvxYBV8C"
      },
      "execution_count": null,
      "outputs": []
    },
    {
      "cell_type": "code",
      "source": [
        "theta_rigde = ridge_regression(x_b,y,alpha_ridge,num_iterations,learning_rate)\n",
        "theta_lasso = lasso_regression(x_b,y,alpha_lasso,num_iterations,learning_rate)\n",
        "print(theta_rigde)\n",
        "print(theta_lasso)"
      ],
      "metadata": {
        "colab": {
          "base_uri": "https://localhost:8080/"
        },
        "id": "aZB2fSOgB8yo",
        "outputId": "ec876211-6170-413d-d1b7-446bf0ed1698"
      },
      "execution_count": null,
      "outputs": [
        {
          "output_type": "stream",
          "name": "stdout",
          "text": [
            "[0.04419306 2.17566213]\n",
            "[-0.40848219  2.33680975]\n"
          ]
        }
      ]
    },
    {
      "cell_type": "code",
      "source": [
        "plt.scatter(x,y,label='Data')\n",
        "plt.plot(x,x_b.dot(theta_rigde),label=f'Ridge(L2)Regression',color='r')\n",
        "plt.plot(x,x_b.dot(theta_lasso),label=f'Lasso(L1)Regression',color='b')\n",
        "plt.xlabel('X')\n",
        "plt.xlabel('Y')\n",
        "plt.legend()\n",
        "plt.show()"
      ],
      "metadata": {
        "colab": {
          "base_uri": "https://localhost:8080/",
          "height": 467
        },
        "id": "EIcmrv8XDZEq",
        "outputId": "308650b0-dd0b-4349-ccb3-9f16ae57b81f"
      },
      "execution_count": null,
      "outputs": [
        {
          "output_type": "execute_result",
          "data": {
            "text/plain": [
              "<function matplotlib.pyplot.show(close=None, block=None)>"
            ]
          },
          "metadata": {},
          "execution_count": 14
        },
        {
          "output_type": "display_data",
          "data": {
            "text/plain": [
              "<Figure size 640x480 with 1 Axes>"
            ],
            "image/png": "[encoded data removed]"
          },
          "metadata": {}
        }
      ]
    },
    {
      "cell_type": "code",
      "source": [],
      "metadata": {
        "id": "bDvfTkicE0D9"
      },
      "execution_count": null,
      "outputs": []
    }
  ]
}